{
 "cells": [
  {
   "cell_type": "markdown",
   "metadata": {},
   "source": [
    "# Use CKAN API to add datasets and organisations\n",
    "\n",
    "Documentation: https://docs.ckan.org/en/latest/api/index.html"
   ]
  },
  {
   "cell_type": "markdown",
   "metadata": {},
   "source": [
    "### Setup"
   ]
  },
  {
   "cell_type": "code",
   "execution_count": 121,
   "metadata": {},
   "outputs": [],
   "source": [
    "import os\n",
    "import pprint\n",
    "import json\n",
    "\n",
    "import requests\n",
    "from dotenv import dotenv_values\n",
    "\n",
    "config = {\n",
    "    # **dotenv_values(\".env\"),  # load shared development variables\n",
    "    **dotenv_values(\".env_local\"),  # load sensitive variables\n",
    "    # **os.environ,  # override loaded values with environment variables\n",
    "}"
   ]
  },
  {
   "cell_type": "code",
   "execution_count": 184,
   "metadata": {},
   "outputs": [],
   "source": [
    "# headers = {'Authorization': config['API_TOKEN']}\n",
    "\n",
    "headers = {'Authorization': config['API_TOKEN'], \n",
    "           'Content-Type': 'application/json'}"
   ]
  },
  {
   "cell_type": "code",
   "execution_count": 123,
   "metadata": {},
   "outputs": [],
   "source": [
    "# base_url = 'http://data.climatesubak.org/api/3/action/'\n",
    "base_url = 'http://nuc:5000/api/3/action/'"
   ]
  },
  {
   "cell_type": "markdown",
   "metadata": {},
   "source": [
    "### Basic queries"
   ]
  },
  {
   "cell_type": "code",
   "execution_count": 53,
   "metadata": {},
   "outputs": [],
   "source": [
    "def get_all_orgs():\n",
    "    url = base_url + 'organization_list'\n",
    "    r = requests.get(url, headers=headers)\n",
    "    return r.json()"
   ]
  },
  {
   "cell_type": "code",
   "execution_count": 54,
   "metadata": {},
   "outputs": [],
   "source": [
    "def get_licenses():\n",
    "    url = base_url + 'license_list'\n",
    "    r = requests.get(url, headers=headers)\n",
    "    return r.json()"
   ]
  },
  {
   "cell_type": "code",
   "execution_count": 96,
   "metadata": {},
   "outputs": [],
   "source": [
    "def get_package_list_with_resources():\n",
    "    url = base_url + 'current_package_list_with_resources'\n",
    "    r = requests.get(url, headers=headers)\n",
    "    return r.json()"
   ]
  },
  {
   "cell_type": "code",
   "execution_count": 102,
   "metadata": {},
   "outputs": [
    {
     "data": {
      "text/plain": [
       "{'help': 'http://data.climatesubak.org/api/3/action/help_show?name=package_list',\n",
       " 'success': True,\n",
       " 'result': ['global-power-plant-database',\n",
       "  'global_electricity',\n",
       "  'ids',\n",
       "  'renewable-energy-planning-database']}"
      ]
     },
     "execution_count": 102,
     "metadata": {},
     "output_type": "execute_result"
    }
   ],
   "source": [
    "requests.get(base_url + 'package_list', headers=headers).json()"
   ]
  },
  {
   "cell_type": "code",
   "execution_count": 103,
   "metadata": {},
   "outputs": [
    {
     "data": {
      "text/plain": [
       "'Bad request - Action name not known: package_list_with_resources'"
      ]
     },
     "execution_count": 103,
     "metadata": {},
     "output_type": "execute_result"
    }
   ],
   "source": [
    "requests.get(base_url + 'package_list_with_resources', headers=headers).json()"
   ]
  },
  {
   "cell_type": "markdown",
   "metadata": {},
   "source": [
    "## Get a single package"
   ]
  },
  {
   "cell_type": "code",
   "execution_count": 120,
   "metadata": {},
   "outputs": [],
   "source": [
    "with open('power_plant_ids.json', 'w') as outfile:\n",
    "    json.dump(requests.get(base_url + 'package_show?id=ids', headers=headers).json()['result'], outfile)\n",
    "    \n",
    "f = open('power_plant_ids.json')\n",
    "data = json.load(f)\n",
    "\n",
    "# data"
   ]
  },
  {
   "cell_type": "markdown",
   "metadata": {},
   "source": [
    "## Create Organisations"
   ]
  },
  {
   "cell_type": "code",
   "execution_count": 195,
   "metadata": {},
   "outputs": [],
   "source": [
    "with open('organisations.json') as f:\n",
    "    orgs = json.loads(f.read())\n",
    "    \n",
    "# orgs['organisations']"
   ]
  },
  {
   "cell_type": "code",
   "execution_count": 224,
   "metadata": {},
   "outputs": [],
   "source": [
    "url = base_url + 'organization_create'\n",
    "\n",
    "for org in orgs['organisations']:\n",
    "    r = requests.post(url, data=json.dumps(org), headers=headers)\n",
    "    print(r.json())"
   ]
  },
  {
   "cell_type": "code",
   "execution_count": 199,
   "metadata": {},
   "outputs": [
    {
     "data": {
      "text/plain": [
       "{'help': 'http://nuc:5000/api/3/action/help_show?name=organization_list',\n",
       " 'success': True,\n",
       " 'result': ['test_org',\n",
       "  'climatepolicyradar',\n",
       "  'subak',\n",
       "  'dc_admin',\n",
       "  'ember',\n",
       "  'newautomotive',\n",
       "  'openclimatefix',\n",
       "  'test',\n",
       "  'transitionzero']}"
      ]
     },
     "execution_count": 199,
     "metadata": {},
     "output_type": "execute_result"
    }
   ],
   "source": [
    "get_all_orgs()"
   ]
  },
  {
   "cell_type": "code",
   "execution_count": 16,
   "metadata": {},
   "outputs": [],
   "source": [
    "# get_licenses()"
   ]
  },
  {
   "cell_type": "markdown",
   "metadata": {},
   "source": [
    "# All datasets (packages) to json\n",
    "Save to `all_packages.json` file"
   ]
  },
  {
   "cell_type": "code",
   "execution_count": 49,
   "metadata": {},
   "outputs": [],
   "source": [
    "with open('all_packages.json', 'w') as outfile:\n",
    "    json.dump(get_package_list_with_resources()['result'], outfile)"
   ]
  },
  {
   "cell_type": "markdown",
   "metadata": {},
   "source": [
    "# Create all datasets from package file\n",
    "\n",
    "First edit `all_packages.json` to delete all the specific `id` values.  \n",
    "Then ensure there is an `owner_org` for each record. Use the org name or `dc_admin` if org is not present."
   ]
  },
  {
   "cell_type": "code",
   "execution_count": 223,
   "metadata": {},
   "outputs": [
    {
     "name": "stdout",
     "output_type": "stream",
     "text": [
      "{'help': 'http://nuc:5000/api/3/action/help_show?name=package_create', 'error': {'name': ['That URL is already in use.'], '__type': 'Validation Error'}, 'success': False}\n",
      "{'help': 'http://nuc:5000/api/3/action/help_show?name=package_create', 'error': {'name': ['That URL is already in use.'], '__type': 'Validation Error'}, 'success': False}\n",
      "{'help': 'http://nuc:5000/api/3/action/help_show?name=package_create', 'error': {'name': ['That URL is already in use.'], '__type': 'Validation Error'}, 'success': False}\n",
      "{'help': 'http://nuc:5000/api/3/action/help_show?name=package_create', 'error': {'name': ['That URL is already in use.'], '__type': 'Validation Error'}, 'success': False}\n"
     ]
    }
   ],
   "source": [
    "url = base_url + 'package_create'\n",
    "with open('all_packages.json') as f:\n",
    "    data = json.loads(f.read())\n",
    "    for package in data:\n",
    "        r = requests.post(url, data=json.dumps(package), headers=headers)\n",
    "        print(r.json())"
   ]
  },
  {
   "cell_type": "markdown",
   "metadata": {},
   "source": [
    "## Delete all datasets (leave orgs)\n",
    "\n",
    "This is probably easiest to do with `ckanapi`"
   ]
  },
  {
   "cell_type": "code",
   "execution_count": 207,
   "metadata": {},
   "outputs": [],
   "source": [
    "# url = 'http://data.climatesubak.org'\n",
    "url = 'http://nuc:5000/'\n",
    "api_key = config['API_TOKEN']"
   ]
  },
  {
   "cell_type": "code",
   "execution_count": 221,
   "metadata": {},
   "outputs": [
    {
     "name": "stdout",
     "output_type": "stream",
     "text": [
      "1 [2] --- None \"global-power-plant-database\"\n",
      "2 [3] 0.09s None \"global_electricity\"\n",
      "3 [4] 0.12s None \"ids\"\n",
      "4 [None] 0.10s None \"renewable-energy-planning-database\"\n"
     ]
    }
   ],
   "source": [
    "!ckanapi action package_list -j -r $url -a $api_key | ckanapi delete datasets -r $url -a $api_key"
   ]
  },
  {
   "cell_type": "markdown",
   "metadata": {},
   "source": [
    "# Dump all orgs to json"
   ]
  },
  {
   "cell_type": "code",
   "execution_count": null,
   "metadata": {},
   "outputs": [],
   "source": []
  },
  {
   "cell_type": "markdown",
   "metadata": {},
   "source": [
    "# Dump all datasets to json"
   ]
  },
  {
   "cell_type": "markdown",
   "metadata": {},
   "source": []
  },
  {
   "cell_type": "markdown",
   "metadata": {},
   "source": [
    "## Create relationships between packages\n",
    "`ckan.logic.action.create.package_relationship_create()`"
   ]
  },
  {
   "cell_type": "code",
   "execution_count": null,
   "metadata": {},
   "outputs": [],
   "source": []
  }
 ],
 "metadata": {
  "interpreter": {
   "hash": "8c469172da472d5bd257d48361fb54f6c90a5e32216b929982b95104b0fb0c9f"
  },
  "kernelspec": {
   "display_name": "Python 3",
   "language": "python",
   "name": "python3"
  },
  "language_info": {
   "codemirror_mode": {
    "name": "ipython",
    "version": 3
   },
   "file_extension": ".py",
   "mimetype": "text/x-python",
   "name": "python",
   "nbconvert_exporter": "python",
   "pygments_lexer": "ipython3",
   "version": "3.8.5"
  }
 },
 "nbformat": 4,
 "nbformat_minor": 4
}
