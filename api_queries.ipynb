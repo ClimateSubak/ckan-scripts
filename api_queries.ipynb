{
 "cells": [
  {
   "cell_type": "markdown",
   "source": [
    "# Use CKAN API to add datasets and organisations\n",
    "\n",
    "Documentation: https://docs.ckan.org/en/latest/api/index.html"
   ],
   "metadata": {}
  },
  {
   "cell_type": "markdown",
   "source": [
    "### Setup"
   ],
   "metadata": {}
  },
  {
   "cell_type": "code",
   "execution_count": 100,
   "source": [
    "import os\n",
    "import pprint\n",
    "import json\n",
    "\n",
    "import requests\n",
    "from dotenv import dotenv_values\n",
    "\n",
    "config = {\n",
    "    # **dotenv_values(\".env\"),  # load shared development variables\n",
    "    **dotenv_values(\".env_local\"),  # load sensitive variables\n",
    "    # **os.environ,  # override loaded values with environment variables\n",
    "}"
   ],
   "outputs": [],
   "metadata": {}
  },
  {
   "cell_type": "markdown",
   "source": [
    "### API building blocks"
   ],
   "metadata": {}
  },
  {
   "cell_type": "code",
   "execution_count": 101,
   "source": [
    "headers = {'Authorization': config['API_TOKEN']}"
   ],
   "outputs": [],
   "metadata": {}
  },
  {
   "cell_type": "code",
   "execution_count": 102,
   "source": [
    "# base_url = 'http://data.climatesubak.org/api/action/'\n",
    "base_url = 'http://localhost:5000/api/action/'"
   ],
   "outputs": [],
   "metadata": {}
  },
  {
   "cell_type": "markdown",
   "source": [
    "### List all organisations"
   ],
   "metadata": {}
  },
  {
   "cell_type": "code",
   "execution_count": 103,
   "source": [
    "def get_all_orgs():\n",
    "    url = base_url + 'organization_list'\n",
    "    r = requests.get(url, headers=headers)\n",
    "    return r.json()"
   ],
   "outputs": [],
   "metadata": {}
  },
  {
   "cell_type": "code",
   "execution_count": 104,
   "source": [
    "def get_licenses():\n",
    "    url = base_url + 'license_list'\n",
    "    r = requests.get(url, headers=headers)\n",
    "    return r.json()"
   ],
   "outputs": [],
   "metadata": {}
  },
  {
   "cell_type": "code",
   "execution_count": 105,
   "source": [
    "def get_package_list_with_resources():\n",
    "    url = base_url + 'current_package_list_with_resources'\n",
    "    r = requests.get(url, headers=headers)\n",
    "    return r.json()"
   ],
   "outputs": [],
   "metadata": {}
  },
  {
   "cell_type": "markdown",
   "source": [
    "## Create Organisations"
   ],
   "metadata": {}
  },
  {
   "cell_type": "code",
   "execution_count": 113,
   "source": [
    "with open('organisations.json') as f:\n",
    "    orgs = json.loads(f.read())"
   ],
   "outputs": [],
   "metadata": {}
  },
  {
   "cell_type": "code",
   "execution_count": 114,
   "source": [
    "orgs['organisations']"
   ],
   "outputs": [
    {
     "output_type": "execute_result",
     "data": {
      "text/plain": [
       "[{'name': 'subak',\n",
       "  'title': 'Climate Subak',\n",
       "  'description': 'Share the data, save the planet',\n",
       "  'image_url': 'https://avatars.githubusercontent.com/u/84879997?s=400&u=0327c044a785b8603d22a2a0acc2a4844c622258&v=4'},\n",
       " {'name': 'openclimatefix',\n",
       "  'title': 'Open Climate Fix',\n",
       "  'description': 'Using computers to fix climate change',\n",
       "  'image_url': 'https://avatars.githubusercontent.com/u/48357542?s=200&v=4'},\n",
       " {'name': 'ember',\n",
       "  'title': 'Ember',\n",
       "  'description': 'Coal to clean energy policy',\n",
       "  'image_url': 'https://ember-climate.org/wp-content/uploads/2021/03/Ember_Logo_Full_Colour_RGB_500px@300ppi.png'},\n",
       " {'name': 'newautomotive',\n",
       "  'title': 'New Automotive',\n",
       "  'description': 'Accelerating the switch to electric',\n",
       "  'image_url': 'https://avatars.githubusercontent.com/u/69809815?s=400&u=3dc566ee1b6ab2e4e675b790359f1e5491b62eb3&v=4'},\n",
       " {'name': 'climatepolicyradar',\n",
       "  'title': 'Climate Policy Radar',\n",
       "  'description': 'Building the evidence base for evidence-based policymaking',\n",
       "  'image_url': 'https://img1.wsimg.com/isteam/ip/577cf4c9-87f7-48e5-be57-b20451dce74d/logoblue-small-0001.png'},\n",
       " {'name': 'transitionzero',\n",
       "  'title': 'TransitionZero',\n",
       "  'description': 'Providing financial analytics to make zero carbon a reality',\n",
       "  'image_url': 'https://images.squarespace-cdn.com/content/v1/605b4bcc5526904ff5589918/86910ab7-bafe-440d-94d4-605afc867fe1/transitionzero-social-icon+compressed.png'}]"
      ]
     },
     "metadata": {},
     "execution_count": 114
    }
   ],
   "metadata": {}
  },
  {
   "cell_type": "code",
   "execution_count": 115,
   "source": [
    "url = base_url + 'organization_create'\n",
    "\n",
    "for org in orgs['organisations']:\n",
    "    r = requests.post(url, data=org, headers=headers)\n",
    "    print(r.json())"
   ],
   "outputs": [
    {
     "output_type": "stream",
     "name": "stdout",
     "text": [
      "{'help': 'http://docker.for.mac.localhost:5000/api/3/action/help_show?name=organization_create', 'success': True, 'result': {'display_name': 'Climate Subak', 'description': 'Share the data, save the planet', 'image_display_url': 'https://avatars.githubusercontent.com/u/84879997?s=400&u=0327c044a785b8603d22a2a0acc2a4844c622258&v=4', 'package_count': 0, 'created': '2021-08-24T08:16:56.831016', 'name': 'subak', 'is_organization': True, 'state': 'active', 'extras': [], 'image_url': 'https://avatars.githubusercontent.com/u/84879997?s=400&u=0327c044a785b8603d22a2a0acc2a4844c622258&v=4', 'groups': [], 'type': 'organization', 'title': 'Climate Subak', 'users': [{'email_hash': '4a3480d0c82b0f1f404c245c5674a9ff', 'about': None, 'capacity': 'admin', 'name': 'laurence', 'created': '2021-08-24T07:35:58.777417', 'image_display_url': None, 'sysadmin': True, 'activity_streams_email_notifications': False, 'state': 'active', 'image_url': None, 'display_name': 'laurence', 'fullname': None, 'id': '7ac344be-b76e-47ae-9d51-b28c69ab528e', 'number_created_packages': 1}], 'num_followers': 0, 'id': '28f132fb-f251-43f9-b73a-ba714407e2fd', 'tags': [], 'approval_status': 'approved'}}\n",
      "{'help': 'http://docker.for.mac.localhost:5000/api/3/action/help_show?name=organization_create', 'success': False, 'error': {'__type': 'Validation Error', 'name': ['Group name already exists in database']}}\n",
      "{'help': 'http://docker.for.mac.localhost:5000/api/3/action/help_show?name=organization_create', 'success': False, 'error': {'__type': 'Validation Error', 'name': ['Group name already exists in database']}}\n",
      "{'help': 'http://docker.for.mac.localhost:5000/api/3/action/help_show?name=organization_create', 'success': False, 'error': {'__type': 'Validation Error', 'name': ['Group name already exists in database']}}\n",
      "{'help': 'http://docker.for.mac.localhost:5000/api/3/action/help_show?name=organization_create', 'success': False, 'error': {'__type': 'Validation Error', 'name': ['Group name already exists in database']}}\n",
      "{'help': 'http://docker.for.mac.localhost:5000/api/3/action/help_show?name=organization_create', 'success': False, 'error': {'__type': 'Validation Error', 'name': ['Group name already exists in database']}}\n"
     ]
    }
   ],
   "metadata": {}
  },
  {
   "cell_type": "code",
   "execution_count": 116,
   "source": [
    "get_all_orgs()"
   ],
   "outputs": [
    {
     "output_type": "execute_result",
     "data": {
      "text/plain": [
       "{'help': 'http://docker.for.mac.localhost:5000/api/3/action/help_show?name=organization_list',\n",
       " 'success': True,\n",
       " 'result': ['climatepolicyradar',\n",
       "  'subak',\n",
       "  'ember',\n",
       "  'newautomotive',\n",
       "  'openclimatefix',\n",
       "  'transitionzero']}"
      ]
     },
     "metadata": {},
     "execution_count": 116
    }
   ],
   "metadata": {}
  },
  {
   "cell_type": "code",
   "execution_count": 110,
   "source": [
    "get_licenses()"
   ],
   "outputs": [
    {
     "output_type": "execute_result",
     "data": {
      "text/plain": [
       "{'help': 'http://docker.for.mac.localhost:5000/api/3/action/help_show?name=license_list',\n",
       " 'success': True,\n",
       " 'result': [{'status': 'active',\n",
       "   'maintainer': '',\n",
       "   'od_conformance': 'not reviewed',\n",
       "   'family': '',\n",
       "   'osd_conformance': 'not reviewed',\n",
       "   'domain_data': 'False',\n",
       "   'title': 'License not specified',\n",
       "   'url': '',\n",
       "   'is_generic': 'True',\n",
       "   'is_okd_compliant': False,\n",
       "   'is_osi_compliant': False,\n",
       "   'domain_content': 'False',\n",
       "   'domain_software': 'False',\n",
       "   'id': 'notspecified'},\n",
       "  {'status': 'active',\n",
       "   'maintainer': '',\n",
       "   'od_conformance': 'approved',\n",
       "   'family': '',\n",
       "   'osd_conformance': 'not reviewed',\n",
       "   'domain_data': 'True',\n",
       "   'title': 'Open Data Commons Public Domain Dedication and License (PDDL)',\n",
       "   'url': 'http://www.opendefinition.org/licenses/odc-pddl',\n",
       "   'is_generic': 'False',\n",
       "   'is_okd_compliant': True,\n",
       "   'is_osi_compliant': False,\n",
       "   'domain_content': 'False',\n",
       "   'domain_software': 'False',\n",
       "   'id': 'odc-pddl'},\n",
       "  {'status': 'active',\n",
       "   'maintainer': '',\n",
       "   'od_conformance': 'approved',\n",
       "   'family': '',\n",
       "   'osd_conformance': 'not reviewed',\n",
       "   'domain_data': 'True',\n",
       "   'title': 'Open Data Commons Open Database License (ODbL)',\n",
       "   'url': 'http://www.opendefinition.org/licenses/odc-odbl',\n",
       "   'is_generic': 'False',\n",
       "   'is_okd_compliant': True,\n",
       "   'is_osi_compliant': False,\n",
       "   'domain_content': 'False',\n",
       "   'domain_software': 'False',\n",
       "   'id': 'odc-odbl'},\n",
       "  {'status': 'active',\n",
       "   'maintainer': '',\n",
       "   'od_conformance': 'approved',\n",
       "   'family': '',\n",
       "   'osd_conformance': 'not reviewed',\n",
       "   'domain_data': 'True',\n",
       "   'title': 'Open Data Commons Attribution License',\n",
       "   'url': 'http://www.opendefinition.org/licenses/odc-by',\n",
       "   'is_generic': 'False',\n",
       "   'is_okd_compliant': True,\n",
       "   'is_osi_compliant': False,\n",
       "   'domain_content': 'False',\n",
       "   'domain_software': 'False',\n",
       "   'id': 'odc-by'},\n",
       "  {'status': 'active',\n",
       "   'maintainer': '',\n",
       "   'od_conformance': 'approved',\n",
       "   'family': '',\n",
       "   'osd_conformance': 'not reviewed',\n",
       "   'domain_data': 'True',\n",
       "   'title': 'Creative Commons CCZero',\n",
       "   'url': 'http://www.opendefinition.org/licenses/cc-zero',\n",
       "   'is_generic': 'False',\n",
       "   'is_okd_compliant': True,\n",
       "   'is_osi_compliant': False,\n",
       "   'domain_content': 'True',\n",
       "   'domain_software': 'False',\n",
       "   'id': 'cc-zero'},\n",
       "  {'status': 'active',\n",
       "   'maintainer': '',\n",
       "   'od_conformance': 'approved',\n",
       "   'family': '',\n",
       "   'osd_conformance': 'not reviewed',\n",
       "   'domain_data': 'False',\n",
       "   'title': 'Creative Commons Attribution',\n",
       "   'url': 'http://www.opendefinition.org/licenses/cc-by',\n",
       "   'is_generic': 'False',\n",
       "   'is_okd_compliant': True,\n",
       "   'is_osi_compliant': False,\n",
       "   'domain_content': 'False',\n",
       "   'domain_software': 'False',\n",
       "   'id': 'cc-by'},\n",
       "  {'status': 'active',\n",
       "   'maintainer': '',\n",
       "   'od_conformance': 'approved',\n",
       "   'family': '',\n",
       "   'osd_conformance': 'not reviewed',\n",
       "   'domain_data': 'False',\n",
       "   'title': 'Creative Commons Attribution Share-Alike',\n",
       "   'url': 'http://www.opendefinition.org/licenses/cc-by-sa',\n",
       "   'is_generic': 'False',\n",
       "   'is_okd_compliant': True,\n",
       "   'is_osi_compliant': False,\n",
       "   'domain_content': 'True',\n",
       "   'domain_software': 'False',\n",
       "   'id': 'cc-by-sa'},\n",
       "  {'status': 'active',\n",
       "   'maintainer': '',\n",
       "   'od_conformance': 'approved',\n",
       "   'family': '',\n",
       "   'osd_conformance': 'not reviewed',\n",
       "   'domain_data': 'False',\n",
       "   'title': 'GNU Free Documentation License',\n",
       "   'url': 'http://www.opendefinition.org/licenses/gfdl',\n",
       "   'is_generic': 'False',\n",
       "   'is_okd_compliant': True,\n",
       "   'is_osi_compliant': False,\n",
       "   'domain_content': 'True',\n",
       "   'domain_software': 'False',\n",
       "   'id': 'gfdl'},\n",
       "  {'status': 'active',\n",
       "   'maintainer': '',\n",
       "   'od_conformance': 'approved',\n",
       "   'family': '',\n",
       "   'osd_conformance': 'not reviewed',\n",
       "   'domain_data': 'False',\n",
       "   'title': 'Other (Open)',\n",
       "   'url': '',\n",
       "   'is_generic': 'True',\n",
       "   'is_okd_compliant': True,\n",
       "   'is_osi_compliant': False,\n",
       "   'domain_content': 'True',\n",
       "   'domain_software': 'False',\n",
       "   'id': 'other-open'},\n",
       "  {'status': 'active',\n",
       "   'maintainer': '',\n",
       "   'od_conformance': 'approved',\n",
       "   'family': '',\n",
       "   'osd_conformance': 'not reviewed',\n",
       "   'domain_data': 'False',\n",
       "   'title': 'Other (Public Domain)',\n",
       "   'url': '',\n",
       "   'is_generic': 'True',\n",
       "   'is_okd_compliant': True,\n",
       "   'is_osi_compliant': False,\n",
       "   'domain_content': 'True',\n",
       "   'domain_software': 'False',\n",
       "   'id': 'other-pd'},\n",
       "  {'status': 'active',\n",
       "   'maintainer': '',\n",
       "   'od_conformance': 'approved',\n",
       "   'family': '',\n",
       "   'osd_conformance': 'not reviewed',\n",
       "   'domain_data': 'False',\n",
       "   'title': 'Other (Attribution)',\n",
       "   'url': '',\n",
       "   'is_generic': 'True',\n",
       "   'is_okd_compliant': True,\n",
       "   'is_osi_compliant': False,\n",
       "   'domain_content': 'True',\n",
       "   'domain_software': 'False',\n",
       "   'id': 'other-at'},\n",
       "  {'status': 'active',\n",
       "   'maintainer': '',\n",
       "   'od_conformance': 'approved',\n",
       "   'family': '',\n",
       "   'osd_conformance': 'not reviewed',\n",
       "   'domain_data': 'False',\n",
       "   'title': 'UK Open Government Licence (OGL)',\n",
       "   'url': 'http://reference.data.gov.uk/id/open-government-licence',\n",
       "   'is_generic': 'False',\n",
       "   'is_okd_compliant': True,\n",
       "   'is_osi_compliant': False,\n",
       "   'domain_content': 'True',\n",
       "   'domain_software': 'False',\n",
       "   'id': 'uk-ogl'},\n",
       "  {'status': 'active',\n",
       "   'maintainer': '',\n",
       "   'od_conformance': 'not reviewed',\n",
       "   'family': '',\n",
       "   'osd_conformance': 'not reviewed',\n",
       "   'domain_data': 'False',\n",
       "   'title': 'Creative Commons Non-Commercial (Any)',\n",
       "   'url': 'http://creativecommons.org/licenses/by-nc/2.0/',\n",
       "   'is_generic': 'False',\n",
       "   'is_okd_compliant': False,\n",
       "   'is_osi_compliant': False,\n",
       "   'domain_content': 'False',\n",
       "   'domain_software': 'False',\n",
       "   'id': 'cc-nc'},\n",
       "  {'status': 'active',\n",
       "   'maintainer': '',\n",
       "   'od_conformance': 'not reviewed',\n",
       "   'family': '',\n",
       "   'osd_conformance': 'not reviewed',\n",
       "   'domain_data': 'False',\n",
       "   'title': 'Other (Non-Commercial)',\n",
       "   'url': '',\n",
       "   'is_generic': 'True',\n",
       "   'is_okd_compliant': False,\n",
       "   'is_osi_compliant': False,\n",
       "   'domain_content': 'False',\n",
       "   'domain_software': 'False',\n",
       "   'id': 'other-nc'},\n",
       "  {'status': 'active',\n",
       "   'maintainer': '',\n",
       "   'od_conformance': 'not reviewed',\n",
       "   'family': '',\n",
       "   'osd_conformance': 'not reviewed',\n",
       "   'domain_data': 'False',\n",
       "   'title': 'Other (Not Open)',\n",
       "   'url': '',\n",
       "   'is_generic': 'True',\n",
       "   'is_okd_compliant': False,\n",
       "   'is_osi_compliant': False,\n",
       "   'domain_content': 'False',\n",
       "   'domain_software': 'False',\n",
       "   'id': 'other-closed'}]}"
      ]
     },
     "metadata": {},
     "execution_count": 110
    }
   ],
   "metadata": {}
  },
  {
   "cell_type": "markdown",
   "source": [
    "## Create a new package"
   ],
   "metadata": {}
  },
  {
   "cell_type": "code",
   "execution_count": 111,
   "source": [
    "url = base_url + 'package_create'\n",
    "with open('dataset_ember.json') as f:\n",
    "    data = json.loads(f.read())\n",
    "r = requests.post(url, data=data, headers=headers)\n",
    "r.json()"
   ],
   "outputs": [
    {
     "output_type": "execute_result",
     "data": {
      "text/plain": [
       "{'help': 'http://docker.for.mac.localhost:5000/api/3/action/help_show?name=package_create',\n",
       " 'success': True,\n",
       " 'result': {'license_title': 'Creative Commons Attribution',\n",
       "  'maintainer': 'Pete Tunbridge',\n",
       "  'relationships_as_object': [],\n",
       "  'private': False,\n",
       "  'maintainer_email': 'pete@ember-climate.org',\n",
       "  'num_tags': 0,\n",
       "  'id': 'd2fde187-4dd4-45e3-be10-e1ced8c3cf2b',\n",
       "  'metadata_created': '2021-08-24T08:15:03.204007',\n",
       "  'metadata_modified': '2021-08-24T08:15:03.204043',\n",
       "  'author': 'Ember',\n",
       "  'author_email': 'info@ember-climate.org',\n",
       "  'state': 'active',\n",
       "  'version': '202103',\n",
       "  'creator_user_id': '7ac344be-b76e-47ae-9d51-b28c69ab528e',\n",
       "  'type': 'dataset',\n",
       "  'resources': [],\n",
       "  'num_resources': 0,\n",
       "  'tags': [],\n",
       "  'groups': [],\n",
       "  'license_id': 'cc-by',\n",
       "  'relationships_as_subject': [],\n",
       "  'organization': {'description': 'Coal to clean energy policy',\n",
       "   'created': '2021-08-24T08:14:50.311213',\n",
       "   'title': 'Ember',\n",
       "   'name': 'ember',\n",
       "   'is_organization': True,\n",
       "   'state': 'active',\n",
       "   'image_url': 'https://ember-climate.org/wp-content/uploads/2021/03/Ember_Logo_Full_Colour_RGB_500px@300ppi.png',\n",
       "   'type': 'organization',\n",
       "   'id': '7851bd97-08aa-4cc9-b4ef-6f3586c3abc9',\n",
       "   'approval_status': 'approved'},\n",
       "  'name': 'global_electricity',\n",
       "  'isopen': True,\n",
       "  'url': 'https://ember-climate.org/data/global-electricity/',\n",
       "  'notes': '',\n",
       "  'owner_org': '7851bd97-08aa-4cc9-b4ef-6f3586c3abc9',\n",
       "  'extras': [],\n",
       "  'license_url': 'http://www.opendefinition.org/licenses/cc-by',\n",
       "  'title': 'Global Electricity Data'}}"
      ]
     },
     "metadata": {},
     "execution_count": 111
    }
   ],
   "metadata": {}
  },
  {
   "cell_type": "markdown",
   "source": [
    "## Get package list with resources"
   ],
   "metadata": {}
  },
  {
   "cell_type": "code",
   "execution_count": 112,
   "source": [
    "get_package_list_with_resources()"
   ],
   "outputs": [
    {
     "output_type": "execute_result",
     "data": {
      "text/plain": [
       "{'help': 'http://docker.for.mac.localhost:5000/api/3/action/help_show?name=current_package_list_with_resources',\n",
       " 'success': True,\n",
       " 'result': [{'license_title': 'Creative Commons Attribution',\n",
       "   'maintainer': 'Pete Tunbridge',\n",
       "   'relationships_as_object': [],\n",
       "   'private': False,\n",
       "   'maintainer_email': 'pete@ember-climate.org',\n",
       "   'num_tags': 0,\n",
       "   'id': 'd2fde187-4dd4-45e3-be10-e1ced8c3cf2b',\n",
       "   'metadata_created': '2021-08-24T08:15:03.204007',\n",
       "   'metadata_modified': '2021-08-24T08:15:03.204043',\n",
       "   'author': 'Ember',\n",
       "   'author_email': 'info@ember-climate.org',\n",
       "   'state': 'active',\n",
       "   'version': '202103',\n",
       "   'creator_user_id': '7ac344be-b76e-47ae-9d51-b28c69ab528e',\n",
       "   'type': 'dataset',\n",
       "   'resources': [],\n",
       "   'num_resources': 0,\n",
       "   'tags': [],\n",
       "   'groups': [],\n",
       "   'license_id': 'cc-by',\n",
       "   'relationships_as_subject': [],\n",
       "   'organization': {'description': 'Coal to clean energy policy',\n",
       "    'created': '2021-08-24T08:14:50.311213',\n",
       "    'title': 'Ember',\n",
       "    'name': 'ember',\n",
       "    'is_organization': True,\n",
       "    'state': 'active',\n",
       "    'image_url': 'https://ember-climate.org/wp-content/uploads/2021/03/Ember_Logo_Full_Colour_RGB_500px@300ppi.png',\n",
       "    'type': 'organization',\n",
       "    'id': '7851bd97-08aa-4cc9-b4ef-6f3586c3abc9',\n",
       "    'approval_status': 'approved'},\n",
       "   'name': 'global_electricity',\n",
       "   'isopen': True,\n",
       "   'url': 'https://ember-climate.org/data/global-electricity/',\n",
       "   'notes': '',\n",
       "   'owner_org': '7851bd97-08aa-4cc9-b4ef-6f3586c3abc9',\n",
       "   'extras': [],\n",
       "   'license_url': 'http://www.opendefinition.org/licenses/cc-by',\n",
       "   'title': 'Global Electricity Data'}]}"
      ]
     },
     "metadata": {},
     "execution_count": 112
    }
   ],
   "metadata": {}
  },
  {
   "cell_type": "code",
   "execution_count": null,
   "source": [],
   "outputs": [],
   "metadata": {}
  }
 ],
 "metadata": {
  "interpreter": {
   "hash": "8c469172da472d5bd257d48361fb54f6c90a5e32216b929982b95104b0fb0c9f"
  },
  "kernelspec": {
   "name": "python3",
   "display_name": "Python 3.8.5 64-bit ('subak-ckan-r9p2o8zj-py3.8': poetry)"
  },
  "language_info": {
   "codemirror_mode": {
    "name": "ipython",
    "version": 3
   },
   "file_extension": ".py",
   "mimetype": "text/x-python",
   "name": "python",
   "nbconvert_exporter": "python",
   "pygments_lexer": "ipython3",
   "version": "3.8.5"
  }
 },
 "nbformat": 4,
 "nbformat_minor": 2
}